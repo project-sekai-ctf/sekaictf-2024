{
 "cells": [
  {
   "cell_type": "markdown",
   "id": "5b9ce87d-b52a-4778-9e16-ac8c60d635e2",
   "metadata": {},
   "source": [
    "# Crypto / √163\n",
    "\n",
    "The main reference here I used is [CSI-FiSh](https://eprint.iacr.org/2019/498.pdf), but I don't fully understand everything, so take it with a grain of salt. First set up our $p$."
   ]
  },
  {
   "cell_type": "code",
   "execution_count": 1,
   "id": "f7dcc146-36b9-4feb-be02-939b46727158",
   "metadata": {},
   "outputs": [],
   "source": [
    "ells = [*primes(3, 128), 163]\n",
    "p = 4 * prod(ells) - 1"
   ]
  },
  {
   "cell_type": "markdown",
   "id": "a83c9fed-36ec-4429-b518-537ab717b59e",
   "metadata": {},
   "source": [
    "PARI has a `quadclassunit` for computing the class group of a quadratic order of discriminant D."
   ]
  },
  {
   "cell_type": "code",
   "execution_count": 2,
   "id": "198256d2-48f4-474b-b055-6e2ee81d69e9",
   "metadata": {},
   "outputs": [
    {
     "name": "stdout",
     "output_type": "stream",
     "text": [
      "CPU times: user 13min 49s, sys: 1.86 s, total: 13min 51s\n",
      "Wall time: 13min 46s\n"
     ]
    },
    {
     "data": {
      "text/plain": [
       "[102019419125180345266808265, [102019419125180345266808265], [Qfb(18673762890019598786089492, -7970720562485151774511690, 70933886576327064156523437)], 1]"
      ]
     },
     "execution_count": 2,
     "metadata": {},
     "output_type": "execute_result"
    }
   ],
   "source": [
    "%time pari.quadclassunit(-4*p)"
   ]
  },
  {
   "cell_type": "markdown",
   "id": "e1d3f7de-1d90-4068-a980-176ee7e21646",
   "metadata": {},
   "source": [
    "Basically, this result says that the class group is cyclic of order 102019419125180345266808265. Let's first check this using the ideal corresponding to the 3-isogeny. We also use binary quadratic forms because they're equivalent somehow (see Cohen's course in algebraic ANT)."
   ]
  },
  {
   "cell_type": "code",
   "execution_count": 3,
   "id": "aa92826f-dbd6-4838-857b-b1ab9e82bc9e",
   "metadata": {},
   "outputs": [],
   "source": [
    "order = 102019419125180345266808265\n",
    "\n",
    "q3 = pari.Qfb(3, 2, (p + 1) // 3)\n",
    "assert q3^order == q3^0"
   ]
  },
  {
   "cell_type": "markdown",
   "id": "9518a5a2-b11e-407c-9f69-0f80c498ed23",
   "metadata": {},
   "source": [
    "In fact, this turns out to be a generator, so even better! Let's check this by exponentiating it against the other possible orders."
   ]
  },
  {
   "cell_type": "code",
   "execution_count": 4,
   "id": "3698253e-6401-4d18-8d3c-94557dc46edf",
   "metadata": {},
   "outputs": [
    {
     "data": {
      "text/plain": [
       "102019419125180345266808265"
      ]
     },
     "execution_count": 4,
     "metadata": {},
     "output_type": "execute_result"
    }
   ],
   "source": [
    "next(i for i in divisors(order) if q3^i == q3^0)"
   ]
  },
  {
   "cell_type": "markdown",
   "id": "9efada73-b541-4e37-918a-7785e7891901",
   "metadata": {},
   "source": [
    "Also, by a stroke of luck this value is smooth:\n",
    "```factor(order) = 3^2 * 5 * 13^2 * 14153 * 130241 * 7277586888541```\n",
    "\n",
    "So our plan of attack is not to understand binary quadratic forms (or really any theory) at all, but just take discrete logs of everything instead. It's kinda suboptimal but whatever."
   ]
  },
  {
   "cell_type": "code",
   "execution_count": 5,
   "id": "73eba51a-8f37-4c8f-9934-fdcf65872e09",
   "metadata": {},
   "outputs": [
    {
     "name": "stderr",
     "output_type": "stream",
     "text": [
      "100%|███████████████████████████████████████████████████████████████████████████████████| 30/30 [17:44<00:00, 35.49s/it]"
     ]
    },
    {
     "name": "stdout",
     "output_type": "stream",
     "text": [
      "dlogs = [99277373102719610806018318, 83421842872387889334089797, 56025662040177681113282671, 49118499040862518947572689, 15645397576648648377412663, 61665764328525124260421806, 40759403716184792525659432, 31140627057263348551498094, 78905162375544758325347534, 68648809775830894573699528, 27796094893603291570999031, 78112521103814979835264292, 71297227107539993495048581, 5454556439229721216822295, 34681014828399246267433987, 1131661496461019698848506, 19470946870768387275356752, 28023327100560354609957208, 100760725121150163662605029, 47438315827128855974764291, 22463776763940393335995788, 57476506252950753777492233, 38279636483214683683465573, 72876847482914625705898507, 92908295887796648693653575, 11507826156847169190868322, 100199642765699100371989608, 26514294093065170664931843, 71477976132429316196420873, 3805079142319255203702393]\n"
     ]
    },
    {
     "name": "stderr",
     "output_type": "stream",
     "text": [
      "\n"
     ]
    }
   ],
   "source": [
    "from tqdm import tqdm\n",
    "\n",
    "dlogs = []\n",
    "for ell in tqdm(ells[1:]):\n",
    "    qfb = pari.Qfb(ell, 2, (p + 1) // ell)\n",
    "    dlog = discrete_log(qfb, q3, order, operation=None, identity=q3^0, inverse=lambda x:x^-1, op=lambda a,b:a*b)\n",
    "    dlogs.append(dlog)\n",
    "print(f'{dlogs = }')"
   ]
  },
  {
   "cell_type": "markdown",
   "id": "067b48ff-c8ad-47b4-9a0c-393f536d4330",
   "metadata": {},
   "source": [
    "All that's left to do is find a vector equivalent to our target (0, ..., 0, 1/2)."
   ]
  },
  {
   "cell_type": "code",
   "execution_count": 6,
   "id": "6c4430aa-f111-4dae-ba13-2721f4a9d11b",
   "metadata": {},
   "outputs": [
    {
     "name": "stdout",
     "output_type": "stream",
     "text": [
      "(2, -4, 1, 0, -1, -2, -2, -2, -2, 0, -1, -1, -4, 0, -1, 4, 1, -1, 2, -4, 0, 2, -7, -5, 1, 0, 2, 1, -1, 0, 0)\n"
     ]
    }
   ],
   "source": [
    "M = matrix(32)\n",
    "M[0, 0] = order\n",
    "M[1:-1, 1:-1] = identity_matrix(30)\n",
    "M[1:-1, 0] = -vector(dlogs)\n",
    "M[-1, -2] = mod(1/2, order)\n",
    "M[-1, -1] = 2^1024 # Kannan embedding with large weight\n",
    "\n",
    "# .change_ring(ZZ).LLL()\n",
    "print(M.LLL()[-1][:-1])"
   ]
  },
  {
   "cell_type": "markdown",
   "id": "1fb62d15-fab2-4811-806c-cee72bff4bd1",
   "metadata": {},
   "source": [
    "And that's pretty much it! We can pipe this private key into the challenge to get the flag.\n",
    "```\n",
    "> sage sqrt163.sage\n",
    "Enter private key: (2, -4, 1, 0, -1, -2, -2, -2, -2, 0, -1, -1, -4, 0, -1, 4, 1, -1, 2, -4, 0, 2, -7, -5, 1, 0, 2, 1, -1, 0, 0)\n",
    "Here is your flag: SEKAI{isogenni_where?_its_all_ideal_classes!}\n",
    "```"
   ]
  }
 ],
 "metadata": {
  "kernelspec": {
   "display_name": "SageMath 10.4.beta6",
   "language": "sage",
   "name": "sagemath"
  },
  "language_info": {
   "codemirror_mode": {
    "name": "ipython",
    "version": 3
   },
   "file_extension": ".py",
   "mimetype": "text/x-python",
   "name": "python",
   "nbconvert_exporter": "python",
   "pygments_lexer": "ipython3",
   "version": "3.10.12"
  }
 },
 "nbformat": 4,
 "nbformat_minor": 5
}
