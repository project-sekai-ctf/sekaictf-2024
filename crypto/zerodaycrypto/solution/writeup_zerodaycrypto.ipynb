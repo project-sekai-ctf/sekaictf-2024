{
 "cells": [
  {
   "cell_type": "markdown",
   "id": "3d68c188-7447-469e-a1ee-075ee05764c8",
   "metadata": {},
   "source": [
    "# Crypto / zerodaycrypto\n",
    "\n",
    "## Foreword\n",
    "\n",
    "Wew, there's actually so much I want to say here that I don't think I can say everything. I discovered this result around January 2024, and have been writing the paper on-and-off for more than half a year now, but never really found the inspiration to just properly sit down and finish it. The quick abstract of it is that you can solve the adversarial MIHNP with $1/n$ of the top bits of only $O(n)$ outputs, compared to $O(n^3)$ in the current state-of-the-art.\n",
    "\n",
    "One of the original plans was to write a paper in time for SEETF, and then release the challenge along with the paper (so it's an implementation challenge). But then SEETF got scrapped. Some time later, I got dragged into SekaiCTF (I don't even remember how) and they said they were accepting zero-days, so here's the end result.\n",
    "\n",
    "I did not want to set the bounds \"too tight\" so to speak, especially for a 48-hour CTF. After some deliberation, I went with parameters that allowed me to solve the challenge with only 10 outputs and in under a minute. But I also gave 14 outputs, and infinite time (technically 48 hours) to allow solutions that were \"better than the state-of-the-art\" without having to be as tight as mine.\n",
    "\n",
    "In particular, my choice to give the highest $\\frac{1}{3}$ of bits was particularly significant because the current state-of-the-art was [this paper](https://ieeexplore.ieee.org/document/10089839) which explicitly stated that for the $\\frac{1}{3}$ case you needed 32 outputs (which we don't have) and a lattice of dimension 46441 (which is not practical), implying that their construction would not be sufficient. The intended solve path then would be to try to \"filter out\" bad polynomials from their lattice to improve its strength.\n",
    "\n",
    "Nevertheless, multiple players managed to use the paper anyway to solve it directly, proving that crypto players are absolutely insane.\n",
    "- First blood was `bachpc` from `thehackerscrew`, who used 13 outputs and a 750x750 lattice (45 minutes?)\n",
    "- Second blood was `ks`, from `ks loves leoneed&mmj`, who used 11 outputs and a 914x914 lattice (1-2 hours maybe?)\n",
    "\n",
    "Congratulations to them, and anyone else who solved the challenge! While they didn't rediscover my construction, I found their approach insightful, both in terms of the strength of that paper's lattice construction, as well as in understanding crypto players' perserverance and determination in general.\n",
    "\n",
    "## The intended solution\n",
    "\n",
    "The brief explanation is that the lattices constructed in that paper contain lots of good polynomials, but also lots of bad ones. If we filter out all the bad ones, you end up with the SBG space. Be sure to have read the [hint on the SBG space](zerodaycrypto_hint.pdf) as a pre-requisite.\n",
    "\n",
    "What follows in the rest of the notebook is a demonstration of how to construct the good polynomials. The exposition is meant to be more practical than theoretical, so I'll omit or handwave away the proofs and defer that to the paper which I hope to finish writing sometime. But also if anyone else is reading and loves this kind of stuff (especially if you've solved the challenge), I am taking co-authors!\n",
    "\n",
    "### First, the problem statement:\n",
    "\n",
    "Simultaneously solve ten equations of the form\n",
    "$$(k + i)(x_i + A_i) \\equiv 1 \\pmod{p},$$\n",
    "where $k \\in \\mathbb{F}$ is unknown, $x_i \\in \\{0, 1, \\ldots, 2^{170}-1\\}$ are small and unknown small, $A_i$ are known, and $i = 1,2,\\ldots,10$.\n",
    "\n",
    "Specifically, for `zerodaycrypto` we have the values $p = 2^{255}-19$ and "
   ]
  },
  {
   "cell_type": "markdown",
   "id": "684fdb5c-a25c-4e37-9210-e84a8d0b64fd",
   "metadata": {},
   "source": [
    "$$\\mathbf{A} = (29431621415867921698671444, 12257315102018176664717361, 6905311467813097279935853, 13222913226749606936127836, 25445478808277291772285314, 9467767007308649046406595, 33796240042739223741879633, 520979008712937962579001, 31472015353079479796110447, 38623718328689304853037278, 17149222936996610613276307, 21988007084256753502814588, 11696872772917077079195865, 6767350497471479755850094) \\times 2^{170}.$$"
   ]
  },
  {
   "cell_type": "markdown",
   "id": "58fe46b5-7e5a-4b51-92b7-53751cf745be",
   "metadata": {},
   "source": [
    "(The flag is then the value of $k+1$ because of 1-indexing. Maybe I should have 0-indexed instead.)\n",
    "\n",
    "In other words, we have an overdetermined system with 11 unknowns and 10 variables, so knowing any one value determines the others. But we want to solve them simultaneously such that all the $x_i$ are small, which is where Coppersmith comes in.\n",
    "\n",
    "### Constructing the Coppersmith polynomials\n",
    "\n",
    "Let's start with some small and boring polynomials first to see what _not_ to do. If we take the resultant of\n",
    "$$(k + i)(x_i + A_i)-1, i \\in \\{1,2\\}$$\n",
    "to eliminate $k$, we get the polynomial equation\n",
    "$$x_1 x_2 + (A_2-1)x_1 + (A_1+1)x_2 + (A_1 A_2 - A_1 + A_2) \\equiv 0 \\pmod{p}.$$\n",
    "\n",
    "This is a polynomial equation of degree 2 giving rise to a root mod $p$.\n",
    "\n",
    "We can also square this for example, or multiply it with the similar $x_3 x_4$ equation, to get a polynomial equation of degree 4 with a root mod $p^2$. But turns out these polynomials are weak and we don't want them.\n",
    "\n",
    "We say that a polynomial of degree $d$ is **good** if produces a root mod $p^{d-1}$. So the degree 2 polynomial is good, but the degree 4 is not.\n",
    "\n",
    "How do we construct good polynomials? Using determinants! Consider this 6x6 matrix\n",
    "$$\n",
    "M =\n",
    "\\begin{pmatrix}\n",
    "  (x_1+A_1) & 1(x_1+A_1)-1   &   1(x_1+A_1) &  1(x_1+A_1)-1   &    1(x_1+A_1) &   1(x_1+A_1)- 1 \\\\\n",
    "  (x_2+A_2) & 2(x_2+A_2)-1   &   2(x_2+A_2) &  4(x_2+A_2)-2   &    4(x_2+A_2) &   8(x_2+A_2)- 4 \\\\\n",
    "  (x_3+A_3) & 3(x_3+A_3)-1   &   3(x_3+A_3) &  9(x_3+A_3)-3   &    9(x_3+A_3) &  27(x_3+A_3)- 9 \\\\\n",
    "  (x_4+A_4) & 4(x_4+A_4)-1   &   4(x_4+A_4) & 16(x_4+A_4)-4   &   16(x_4+A_4) &  64(x_4+A_4)-16 \\\\\n",
    "  (x_5+A_5) & 5(x_5+A_5)-1   &   5(x_5+A_5) & 25(x_5+A_5)-5   &   25(x_5+A_5) & 125(x_5+A_5)-25 \\\\\n",
    "  (x_6+A_6) & 6(x_6+A_6)-1   &   6(x_6+A_6) & 36(x_6+A_6)-6   &   36(x_6+A_6) & 216(x_6+A_6)-36 \\\\\n",
    "\\end{pmatrix}\n",
    "$$"
   ]
  },
  {
   "cell_type": "markdown",
   "id": "2270dad0-9a53-4985-9130-75af8465f26e",
   "metadata": {},
   "source": [
    "We can add $k$ times the first column to the second column. This is a pivot operation that doesn't change the determinant. But also the effect of this operation is that the second column are now all multiples of $p$. Likewise with the third and fourth columns. Then again with the fifth and six columns.\n",
    "\n",
    "This means we can say that $det(M)$ is a polynomial with a root mod $p^3$.\n",
    "\n",
    "Which is not useful in itself if $det(M)$ has degree 6. But what if we pivot different pairs of columns instead? In particular, if we subtract the third column from the second, and the fourth column from the third, we will get\n",
    "\n",
    "$$\n",
    "M' =\n",
    "\\begin{pmatrix}\n",
    "  (x_1+A_1) & -1   &   1(x_1+A_1) & -1   &    1(x_1+A_1) &   1(x_1+A_1)- 1 \\\\\n",
    "  (x_2+A_2) & -1   &   2(x_2+A_2) & -2   &    4(x_2+A_2) &   8(x_2+A_2)- 4 \\\\\n",
    "  (x_3+A_3) & -1   &   3(x_3+A_3) & -3   &    9(x_3+A_3) &  27(x_3+A_3)- 9 \\\\\n",
    "  (x_4+A_4) & -1   &   4(x_4+A_4) & -4   &   16(x_4+A_4) &  64(x_4+A_4)-16 \\\\\n",
    "  (x_5+A_5) & -1   &   5(x_5+A_5) & -5   &   25(x_5+A_5) & 125(x_5+A_5)-25 \\\\\n",
    "  (x_6+A_6) & -1   &   6(x_6+A_6) & -6   &   36(x_6+A_6) & 216(x_6+A_6)-36 \\\\\n",
    "\\end{pmatrix},\n",
    "$$\n",
    "\n",
    "and now the same polynomial has degree 4. In fact, if we translate it by $-\\mathbf{A}$, we now have\n",
    "\n",
    "$$\n",
    "M'' =\n",
    "\\begin{pmatrix}\n",
    "  x_1 & -1   &   1x_1 & -1   &    1x_1 &   1x_1- 1 \\\\\n",
    "  x_2 & -1   &   2x_2 & -2   &    4x_2 &   8x_2- 4 \\\\\n",
    "  x_3 & -1   &   3x_3 & -3   &    9x_3 &  27x_3- 9 \\\\\n",
    "  x_4 & -1   &   4x_4 & -4   &   16x_4 &  64x_4-16 \\\\\n",
    "  x_5 & -1   &   5x_5 & -5   &   25x_5 & 125x_5-25 \\\\\n",
    "  x_6 & -1   &   6x_6 & -6   &   36x_6 & 216x_6-36 \\\\\n",
    "\\end{pmatrix}\n",
    "$$"
   ]
  },
  {
   "cell_type": "markdown",
   "id": "d4552717-9a7c-4872-82a9-6d9802cf3fcd",
   "metadata": {},
   "source": [
    "This is now a different polynomial, but it's clear (from swapping columns, and multiplying by -1 if necessary) that $det(M'')$ is the sum of a $(6,4)$-beetle and a $(6,3)$-beetle. This means that $det(M'') \\in \\mathrm{SBG}$, and thus $det(M) \\in \\mathrm{SBG}$.\n",
    "\n",
    "This gives us a quick-and-easy way to construct lots of good polynomials! Actually many of them are linearly dependent, so what we can do is fix a superbeetle basis for $\\mathrm{SBG}_{10}$, and then for each element of the basis we construct a corresponding polynomial by taking the same values of $i$ as its beetleshell."
   ]
  },
  {
   "cell_type": "markdown",
   "id": "5235f8a4-c516-4fc5-a550-eea121d55de3",
   "metadata": {},
   "source": [
    "To be extra specific, we construct the following:\n",
    "- We have exactly one degree-6 polynomial mod $p^5$. This uses $\\mathrm{i} = (1,2,3,4,5,6,7,8,9,10)$.\n",
    "- We have 21 degree-5 polynomials mod $p^4$. The uses $\\mathrm{i} = (1,2,3,4,5,8,9,10), (1,2,3,4,6,8,9,10), \\ldots$ with the last three elements fixed as $(8,9,10)$.\n",
    "- We have 70 degree-4 polynomials mod $p^3$. The uses $\\mathrm{i} = (1,2,3,4,9,10), \\ldots$ with the last two elements fixed as $(9,10)$.\n",
    "- We have 84 degree-3 polynomials mod $p^2$. The uses $\\mathrm{i} = (1,2,3,10), \\ldots$ with the last one elements fixed as $(10)$.\n",
    "- We have 45 degree-2 polynomials mod $p^1$. The uses $\\mathrm{i} = (1,2), \\ldots$ with no fixed elements.\n",
    "- We have 10 degree-1 polynomials mod $1$.\n",
    "- We have 1 degree-0 polynomial mod $1$.\n",
    "\n",
    "Actually, those last eleven probably don't even really count as equations. But anyway this gives us our lattice of dimension 232, and we are done!\n",
    "\n",
    "We can do our usual Coppersmith analysis on this easily since it's a triangular matrix, and with this matrix you only need the high $\\frac{231}{743} \\simeq 0.311$ bits (so a lot better than one third), but I leave the details to the paper.\n",
    "\n",
    "## Sage implementation\n",
    "\n",
    "We will start by first ignoring the $\\mathbf{A}$ completely. This is because SBG is invariant under translation, so will just translate it at the end."
   ]
  },
  {
   "cell_type": "code",
   "execution_count": 1,
   "id": "a679df43-4ef6-43f7-a95e-1fc9c153e6ef",
   "metadata": {},
   "outputs": [
    {
     "name": "stdout",
     "output_type": "stream",
     "text": [
      "subsets = [{0, 1, 2, 3, 4, 5, 6, 7, 8, 9}, {0, 1, 2, 3, 4, 7, 8, 9}, {0, 1, 2, 3, 5, 7, 8, 9}, {0, 1, 2, 3, 6, 7, 8, 9}, {0, 1, 2, 4, 5, 7, 8, 9}, {0, 1, 2, 4, 6, 7, 8, 9}, {0, 1, 2, 5, 6, 7, 8, 9}, {0, 1, 3, 4, 5, 7, 8, 9}, {0, 1, 3, 4, 6, 7, 8, 9}, {0, 1, 3, 5, 6, 7, 8, 9}, {0, 1, 4, 5, 6, 7, 8, 9}, {0, 2, 3, 4, 5, 7, 8, 9}, {0, 2, 3, 4, 6, 7, 8, 9}, {0, 2, 3, 5, 6, 7, 8, 9}, {0, 2, 4, 5, 6, 7, 8, 9}, {0, 3, 4, 5, 6, 7, 8, 9}, {1, 2, 3, 4, 5, 7, 8, 9}, {1, 2, 3, 4, 6, 7, 8, 9}, {1, 2, 3, 5, 6, 7, 8, 9}, {1, 2, 4, 5, 6, 7, 8, 9}, {1, 3, 4, 5, 6, 7, 8, 9}, {2, 3, 4, 5, 6, 7, 8, 9}, {0, 1, 2, 3, 8, 9}, {0, 1, 2, 4, 8, 9}, {0, 1, 2, 5, 8, 9}, {0, 1, 2, 6, 8, 9}, {0, 1, 2, 7, 8, 9}, {0, 1, 3, 4, 8, 9}, {0, 1, 3, 5, 8, 9}, {0, 1, 3, 6, 8, 9}, {0, 1, 3, 7, 8, 9}, {0, 1, 4, 5, 8, 9}, {0, 1, 4, 6, 8, 9}, {0, 1, 4, 7, 8, 9}, {0, 1, 5, 6, 8, 9}, {0, 1, 5, 7, 8, 9}, {0, 1, 6, 7, 8, 9}, {0, 2, 3, 4, 8, 9}, {0, 2, 3, 5, 8, 9}, {0, 2, 3, 6, 8, 9}, {0, 2, 3, 7, 8, 9}, {0, 2, 4, 5, 8, 9}, {0, 2, 4, 6, 8, 9}, {0, 2, 4, 7, 8, 9}, {0, 2, 5, 6, 8, 9}, {0, 2, 5, 7, 8, 9}, {0, 2, 6, 7, 8, 9}, {0, 3, 4, 5, 8, 9}, {0, 3, 4, 6, 8, 9}, {0, 3, 4, 7, 8, 9}, {0, 3, 5, 6, 8, 9}, {0, 3, 5, 7, 8, 9}, {0, 3, 6, 7, 8, 9}, {0, 4, 5, 6, 8, 9}, {0, 4, 5, 7, 8, 9}, {0, 4, 6, 7, 8, 9}, {0, 5, 6, 7, 8, 9}, {1, 2, 3, 4, 8, 9}, {1, 2, 3, 5, 8, 9}, {1, 2, 3, 6, 8, 9}, {1, 2, 3, 7, 8, 9}, {1, 2, 4, 5, 8, 9}, {1, 2, 4, 6, 8, 9}, {1, 2, 4, 7, 8, 9}, {1, 2, 5, 6, 8, 9}, {1, 2, 5, 7, 8, 9}, {1, 2, 6, 7, 8, 9}, {1, 3, 4, 5, 8, 9}, {1, 3, 4, 6, 8, 9}, {1, 3, 4, 7, 8, 9}, {1, 3, 5, 6, 8, 9}, {1, 3, 5, 7, 8, 9}, {1, 3, 6, 7, 8, 9}, {1, 4, 5, 6, 8, 9}, {1, 4, 5, 7, 8, 9}, {1, 4, 6, 7, 8, 9}, {1, 5, 6, 7, 8, 9}, {2, 3, 4, 5, 8, 9}, {2, 3, 4, 6, 8, 9}, {2, 3, 4, 7, 8, 9}, {2, 3, 5, 6, 8, 9}, {2, 3, 5, 7, 8, 9}, {2, 3, 6, 7, 8, 9}, {2, 4, 5, 6, 8, 9}, {2, 4, 5, 7, 8, 9}, {2, 4, 6, 7, 8, 9}, {2, 5, 6, 7, 8, 9}, {3, 4, 5, 6, 8, 9}, {3, 4, 5, 7, 8, 9}, {3, 4, 6, 7, 8, 9}, {3, 5, 6, 7, 8, 9}, {4, 5, 6, 7, 8, 9}, {0, 1, 2, 9}, {0, 1, 3, 9}, {0, 1, 4, 9}, {0, 1, 5, 9}, {0, 1, 6, 9}, {0, 1, 9, 7}, {0, 1, 8, 9}, {0, 9, 2, 3}, {0, 9, 2, 4}, {0, 9, 2, 5}, {0, 9, 2, 6}, {0, 9, 2, 7}, {0, 8, 2, 9}, {0, 9, 3, 4}, {0, 9, 3, 5}, {0, 9, 3, 6}, {0, 9, 3, 7}, {0, 8, 3, 9}, {0, 9, 4, 5}, {0, 9, 4, 6}, {0, 9, 4, 7}, {0, 8, 4, 9}, {0, 9, 5, 6}, {0, 9, 5, 7}, {0, 8, 5, 9}, {0, 9, 6, 7}, {0, 8, 6, 9}, {0, 8, 9, 7}, {1, 2, 3, 9}, {1, 2, 4, 9}, {1, 2, 5, 9}, {1, 2, 6, 9}, {1, 2, 9, 7}, {8, 1, 2, 9}, {1, 3, 4, 9}, {1, 3, 5, 9}, {1, 3, 6, 9}, {1, 3, 9, 7}, {8, 1, 3, 9}, {1, 4, 5, 9}, {1, 4, 6, 9}, {1, 4, 9, 7}, {8, 1, 4, 9}, {1, 5, 6, 9}, {1, 5, 9, 7}, {8, 1, 5, 9}, {1, 9, 6, 7}, {8, 1, 6, 9}, {8, 1, 9, 7}, {9, 2, 3, 4}, {9, 2, 3, 5}, {9, 2, 3, 6}, {9, 2, 3, 7}, {8, 9, 2, 3}, {9, 2, 4, 5}, {9, 2, 4, 6}, {9, 2, 4, 7}, {8, 9, 2, 4}, {9, 2, 5, 6}, {9, 2, 5, 7}, {8, 9, 2, 5}, {9, 2, 6, 7}, {8, 9, 2, 6}, {8, 9, 2, 7}, {9, 3, 4, 5}, {9, 3, 4, 6}, {9, 3, 4, 7}, {8, 9, 3, 4}, {9, 3, 5, 6}, {9, 3, 5, 7}, {8, 9, 3, 5}, {9, 3, 6, 7}, {8, 9, 3, 6}, {8, 9, 3, 7}, {9, 4, 5, 6}, {9, 4, 5, 7}, {8, 9, 4, 5}, {9, 4, 6, 7}, {8, 9, 4, 6}, {8, 9, 4, 7}, {9, 5, 6, 7}, {8, 9, 5, 6}, {8, 9, 5, 7}, {8, 9, 6, 7}, {0, 1}, {0, 2}, {0, 3}, {0, 4}, {0, 5}, {0, 6}, {0, 7}, {0, 8}, {0, 9}, {1, 2}, {1, 3}, {1, 4}, {1, 5}, {1, 6}, {1, 7}, {8, 1}, {1, 9}, {2, 3}, {2, 4}, {2, 5}, {2, 6}, {2, 7}, {8, 2}, {9, 2}, {3, 4}, {3, 5}, {3, 6}, {3, 7}, {8, 3}, {9, 3}, {4, 5}, {4, 6}, {4, 7}, {8, 4}, {9, 4}, {5, 6}, {5, 7}, {8, 5}, {9, 5}, {6, 7}, {8, 6}, {9, 6}, {8, 7}, {9, 7}, {8, 9}, {0}, {1}, {2}, {3}, {4}, {5}, {6}, {7}, {8}, {9}, {}]\n"
     ]
    }
   ],
   "source": [
    "def flatter(M):\n",
    "    from subprocess import check_output\n",
    "    from re import findall\n",
    "    z = \"[[\" + \"]\\n[\".join(\" \".join(map(str, row)) for row in M) + \"]]\"\n",
    "    ret = check_output([\"flatter\", \"-rhf\", \"1.03\"], input=z.encode())\n",
    "    return matrix(M.nrows(), M.ncols(), map(ZZ, findall(b\"-?\\\\d+\", ret)))\n",
    "    \n",
    "N, Δ, p = 10, 2^170, 2^255 - 19\n",
    "F = PolynomialRing(QQ, 'x', N, order='deglex')\n",
    "PP = p ^ (N//2)\n",
    "\n",
    "class Monomial:\n",
    "    def __init__(self, Ω):\n",
    "        K = len(Ω)//2\n",
    "        lhs, rhs = F(1), F(0)\n",
    "        if Ω:\n",
    "            f = lambda k: sum(prod(F.gen(i) / prod(i-j for j in Ω-S) for i in S) for S in Subsets(Ω, k))\n",
    "            lhs, rhs = f(K+1), (-1)^K * f(K)\n",
    "            \n",
    "        self.top = lhs.numerator()\n",
    "        self.eqn = (lhs - rhs) / lhs.lc()\n",
    "        self.mul = p^K\n",
    "        \n",
    "def cm(arr):\n",
    "    return Sequence(arr).coefficients_monomials(sparse=False)\n",
    "    \n",
    "def dm(arr):\n",
    "    return diagonal_matrix(arr, sparse=False)\n",
    "\n",
    "H = N//2 + 1\n",
    "subsets = [x-{N} + Set(range(H+i, N)) for i in range(H) for x in Subsets(range(H+i), H-i)]\n",
    "tups = [Monomial(s) for s in sorted(subsets)[::-1]]\n",
    "print(f'{subsets = }')"
   ]
  },
  {
   "cell_type": "markdown",
   "id": "6c0fd8a1-66cd-4ebe-8c8f-fd32a8948a64",
   "metadata": {},
   "source": [
    "What happened here is I've created 232 subsets of {0,1,...,9} as described. This is used for both the 232 basis polynomials of $\\mathrm{SBG}_{10}$, as well as the 232 (pre-translated) Coppersmith polynomials for the lattice.\n",
    "\n",
    "Instead of directly using the determinants of matrix, I've cheated a bit by using products of differences. This is basically because it's a [Vandermonde-like matrix](https://en.wikipedia.org/wiki/Vandermonde_matrix). Same thing, just faster.\n",
    "\n",
    "Now let's translate by $\\mathbf{A}$ and turn it into a matrix."
   ]
  },
  {
   "cell_type": "code",
   "execution_count": 2,
   "id": "f1e0ce1f-2442-40af-bccc-257b2664f954",
   "metadata": {},
   "outputs": [
    {
     "name": "stdout",
     "output_type": "stream",
     "text": [
      "M.dimensions() = (232, 848)\n"
     ]
    }
   ],
   "source": [
    "A = [29431621415867921698671444, 12257315102018176664717361, 6905311467813097279935853, 13222913226749606936127836, 25445478808277291772285314, 9467767007308649046406595, 33796240042739223741879633, 520979008712937962579001, 31472015353079479796110447, 38623718328689304853037278, 17149222936996610613276307, 21988007084256753502814588, 11696872772917077079195865, 6767350497471479755850094]\n",
    "M = cm(vector([t.eqn for t in tups])([g*Δ+x for g,x in zip(A, F.gens())]))[0]\n",
    "print(f'{M.dimensions() = }')"
   ]
  },
  {
   "cell_type": "markdown",
   "id": "773eaa87-864a-4bb6-8830-30565b1fa13d",
   "metadata": {},
   "source": [
    "Ok, I've cheated again by having a non-square matrix. This is because `cm` decomposes the polynomials wrt to full monomial basis. We're supposed to find the coordinates using our SBG basis, but also this turns out be the same as just removing columns which is so much easier."
   ]
  },
  {
   "cell_type": "code",
   "execution_count": 3,
   "id": "21abe2de-1da1-4943-84df-bfb80b8aac9b",
   "metadata": {},
   "outputs": [
    {
     "name": "stdout",
     "output_type": "stream",
     "text": [
      "M.dimensions() = (232, 232)\n"
     ]
    }
   ],
   "source": [
    "M = M[:, M.pivots()]\n",
    "print(f'{M.dimensions() = }')"
   ]
  },
  {
   "cell_type": "markdown",
   "id": "6e234e25-5b4b-4d3c-82f3-e91493bb599d",
   "metadata": {},
   "source": [
    "Remember how the polynomials are all taken modulo different powers of $p$? To make the lattice consistent, we multiply each row by some power of $p$ (inversely proportional to its strength), so that _the entire system_ is now modulo the same power of $p$."
   ]
  },
  {
   "cell_type": "code",
   "execution_count": 4,
   "id": "a159e6d4-11e6-4eed-8bd6-ba471df356ef",
   "metadata": {},
   "outputs": [
    {
     "name": "stdout",
     "output_type": "stream",
     "text": [
      "M2.dimensions() = (232, 232)\n"
     ]
    }
   ],
   "source": [
    "WD = dm([t.top.lc() for t in tups])\n",
    "M2 = matrix([row % t.mul / t.mul * PP for t, row in zip(tups, WD * M * WD^-1)])\n",
    "M2[-N-1:,-N-1:] = identity_matrix(N + 1) * PP\n",
    "print(f'{M2.dimensions() = }')"
   ]
  },
  {
   "cell_type": "markdown",
   "id": "545a9e8c-2c47-415e-8226-92d7255ef479",
   "metadata": {},
   "source": [
    "We now balance our lattice with the weights of the basis polynomials. In a standard Coppersmith lattice, a monomial like $x_1 x_3$ would have weight $\\Delta^2$. Now our basis polynomials are no longer monomials but homogeneous polynomials so they look slightly more complicated, but still not terrible, e.g. $x_1 x_3 + x_2 x_4$ would just give $2\\Delta^2$."
   ]
  },
  {
   "cell_type": "code",
   "execution_count": 5,
   "id": "f14b3ec1-8db4-472f-a99c-4041ffbd4997",
   "metadata": {},
   "outputs": [
    {
     "name": "stdout",
     "output_type": "stream",
     "text": [
      "walltime(T) = 45.30013179779053\n"
     ]
    }
   ],
   "source": [
    "T = walltime()\n",
    "WT = dm([sum(abs(x) for x,_ in t.top) * Δ^t.top.degree() for t in tups])\n",
    "M3 = flatter(M2._clear_denom()[0] * WT) * WT^-1\n",
    "print(f'{walltime(T) = }')"
   ]
  },
  {
   "cell_type": "markdown",
   "id": "5a430d0e-ab49-4e43-94a1-ca1bbfb25f45",
   "metadata": {},
   "source": [
    "And it is flatter-reduced! All that's left is to solve the system in the reals.\n",
    "\n",
    "Because all our polynomials were good (except the last one), heuristically we can use all of them (except the last one). This means we can skip the Groebner basis and just `solve_right` directly."
   ]
  },
  {
   "cell_type": "code",
   "execution_count": 6,
   "id": "e3f61aa9-69e8-400c-86a0-888b0c6424a0",
   "metadata": {},
   "outputs": [
    {
     "name": "stdout",
     "output_type": "stream",
     "text": [
      "k = 50850654797340916877839991041176893622674697204475566066988576396536406370424\n"
     ]
    }
   ],
   "source": [
    "v = M3.solve_right(vector([0]*(M3.nrows()-1)+[1]))[-N-1:]\n",
    "k = 1/mod(A[0] * Δ + v[0]/v[-1], p)\n",
    "print(f'{k = }')"
   ]
  },
  {
   "cell_type": "markdown",
   "id": "2dc7c612-3d35-416a-9aef-43ad4ec3d77f",
   "metadata": {},
   "source": [
    "And we have recovered `k`! Let's just check that we get $\\mathbf{A}$ back."
   ]
  },
  {
   "cell_type": "code",
   "execution_count": 7,
   "id": "6c90064f-72e4-497a-9b5d-409291ae0a88",
   "metadata": {},
   "outputs": [],
   "source": [
    "assert [1/(k+i) >> 170 for i in range(1+3+3+7)] == A"
   ]
  },
  {
   "cell_type": "markdown",
   "id": "4cea53df-8b44-47db-9ac2-c6c3f4e2f2bd",
   "metadata": {},
   "source": [
    "At this point we've been more mathematician than crypto player, so the flag doesn't matter and we're content to have solved for $k$. QED.\n",
    "\n",
    "But just for completeness anyway:"
   ]
  },
  {
   "cell_type": "code",
   "execution_count": 8,
   "id": "00db6200-b40c-4df1-948e-0b71d9036ad3",
   "metadata": {},
   "outputs": [
    {
     "name": "stdout",
     "output_type": "stream",
     "text": [
      "SEKAI{pls_help_me_write_the_paper_kthx}\n"
     ]
    }
   ],
   "source": [
    "print(f'SEKAI{{{k.to_bytes().decode()}}}')"
   ]
  }
 ],
 "metadata": {
  "kernelspec": {
   "display_name": "SageMath 10.4.beta6",
   "language": "sage",
   "name": "sagemath"
  },
  "language_info": {
   "codemirror_mode": {
    "name": "ipython",
    "version": 3
   },
   "file_extension": ".py",
   "mimetype": "text/x-python",
   "name": "python",
   "nbconvert_exporter": "python",
   "pygments_lexer": "ipython3",
   "version": "3.10.12"
  }
 },
 "nbformat": 4,
 "nbformat_minor": 5
}
